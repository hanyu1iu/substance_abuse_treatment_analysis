{
 "cells": [
  {
   "cell_type": "code",
   "execution_count": 1,
   "id": "7b464b54",
   "metadata": {},
   "outputs": [],
   "source": [
    "import torch\n",
    "import torch.nn as nn\n",
    "import torch.nn.functional as F\n",
    "import matplotlib.pyplot as plt\n",
    "import numpy as np\n",
    "import tqdm\n",
    "import torch.optim as optim\n",
    "import os\n",
    "import pandas as pd\n",
    "import numpy as np\n",
    "import pickle\n",
    "from sklearn.model_selection import train_test_split\n",
    "from torch.autograd import Variable\n",
    "from sklearn.utils import shuffle"
   ]
  },
  {
   "cell_type": "code",
   "execution_count": 2,
   "id": "3b650a52",
   "metadata": {},
   "outputs": [
    {
     "name": "stdout",
     "output_type": "stream",
     "text": [
      "True\n",
      "NVIDIA GeForce RTX 4090\n"
     ]
    }
   ],
   "source": [
    "print(torch.cuda.is_available())\n",
    "print(torch.cuda.get_device_name())"
   ]
  },
  {
   "cell_type": "code",
   "execution_count": 3,
   "id": "0ceaf0b0",
   "metadata": {},
   "outputs": [
    {
     "data": {
      "text/plain": [
       "device(type='cuda', index=0)"
      ]
     },
     "execution_count": 3,
     "metadata": {},
     "output_type": "execute_result"
    }
   ],
   "source": [
    "device = torch.device(\"cuda:0\")\n",
    "device"
   ]
  },
  {
   "cell_type": "code",
   "execution_count": 4,
   "id": "ee6cdd27",
   "metadata": {},
   "outputs": [],
   "source": [
    "x = torch.tensor([1, 2, 3])\n",
    "x = x.cuda(0)"
   ]
  },
  {
   "cell_type": "code",
   "execution_count": 5,
   "id": "3f9dce76",
   "metadata": {},
   "outputs": [],
   "source": [
    "def encode_categorical(series):\n",
    "    col = series.name\n",
    "    series_one_hot = pd.get_dummies(series)\n",
    "    if -9 in series_one_hot.columns:\n",
    "        series_one_hot = series_one_hot.drop(labels=-9, axis=1)\n",
    "    series_one_hot.columns = [col+'_'+str(i) for i in series_one_hot.columns]\n",
    "    return series_one_hot\n",
    "def scale_continuous(series):\n",
    "    series = series.copy()\n",
    "    mean = series.loc[series!=-9].mean()\n",
    "    series.loc[series==-9] = mean\n",
    "    series = (series-mean)/series.std()\n",
    "    return pd.DataFrame(series)"
   ]
  },
  {
   "cell_type": "code",
   "execution_count": 34,
   "id": "c1232ba4",
   "metadata": {},
   "outputs": [],
   "source": [
    "data = pd.read_csv('data/treatments_2017-2020.csv')\n",
    "data = data.loc[data.REASON!=7]\n",
    "data = data.reset_index(drop=True)\n",
    "\n",
    "categorical_features = ['EMPLOY_D', 'MARSTAT', 'PRIMINC', 'TRNQFLG', 'NOPRIOR', 'PREG', 'METHUSE', 'DETNLF_D',\n",
    "                        'INHFLG', 'SUB1_D', 'ALCDRUG', 'SERVICES', 'ETHNIC', 'SERVICES_D', 'DETNLF', 'PRIMPAY'\n",
    "                       , 'HERFLG', 'IDU', 'REGION', 'SEDHPFLG', 'BENZFLG', 'OPSYNFLG', 'ALCFLG', 'OTCFLG',\n",
    "                       'HLTHINS', 'DIVISION', 'GENDER', 'AMPHFLG', 'PCPFLG', 'PSOURCE', 'COKEFLG',  'COKEFLG',\n",
    "                       'PSYPROB', 'RACE', 'ROUTE1','DETCRIM', 'VET','ARRESTS_D', 'MARFLG','STIMFLG','LIVARAG_D', 'SUB1',\n",
    "                        'BARBFLG', 'EMPLOY', 'LIVARAG', 'ARRESTS', 'EDUC', 'DSMCRIT', 'METHFLG','OTHERFLG', 'FREQ_ATND_SELF_HELP_D', 'FREQ1_D',\n",
    "                        'FREQ1', 'FREQ_ATND_SELF_HELP',\n",
    "                        'metropolitanmicropolitanstatis']\n",
    "continuous_features = ['AGE', 'LOS', 'FRSTUSE1', 'DAYWAIT']\n",
    "# continuous_features = ['AGE', 'FRSTUSE1', 'DAYWAIT']"
   ]
  },
  {
   "cell_type": "code",
   "execution_count": 35,
   "id": "5b213fa5",
   "metadata": {},
   "outputs": [],
   "source": [
    "df = data[['DISYR', 'STFIPS', 'CBSA', 'REASON']]\n",
    "for i in range(len(categorical_features)):\n",
    "    df = pd.concat([df, encode_categorical(data[categorical_features[i]])], axis=1)\n",
    "for i in range(len(continuous_features)):\n",
    "    df = pd.concat([df, scale_continuous(data[continuous_features[i]])], axis=1)\n",
    "del data\n",
    "\n",
    "state_data = pd.read_csv('acs_5yr_state_normalized.csv')\n",
    "CBSA_data = pd.read_csv('acs_5yr_CBSA_normalized.csv')\n",
    "facility_data = pd.read_csv('facilities_by_state_normalized.csv')"
   ]
  },
  {
   "cell_type": "code",
   "execution_count": 36,
   "id": "00b73c80",
   "metadata": {},
   "outputs": [],
   "source": [
    "train, test = pickle.load(open('split.p', 'rb'))\n",
    "\n",
    "# a small batch\n",
    "ind = train[:100]\n",
    "\n",
    "def load_batch(ind):\n",
    "    batch = df.loc[ind]\n",
    "    batch = pd.merge(batch, state_data, how=\"left\", left_on=[\"STFIPS\", \"DISYR\"], right_on=[\"fips\", \"Year\"])\n",
    "    batch = batch.drop(labels=[\"fips\", \"Year\"], axis=1)\n",
    "#     batch = pd.merge(batch, CBSA_data, how=\"left\", left_on=[\"CBSA\", \"DISYR\"], right_on=[\"CBSA\", \"Year\"])\n",
    "#     batch = batch.drop(labels=[ \"Year\"], axis=1)\n",
    "    batch = pd.merge(batch, facility_data, how=\"left\", left_on=[\"STFIPS\", \"DISYR\"], right_on=[\"state_fips\", \"year\"])\n",
    "    batch = batch.drop(labels=[\"state_fips\", \"year\"], axis=1)\n",
    "    X = batch.values[:, 4:]\n",
    "    y = batch.REASON.values\n",
    "    y = np.int16(y==1)\n",
    "    return X, y"
   ]
  },
  {
   "cell_type": "code",
   "execution_count": 37,
   "id": "7370759f",
   "metadata": {},
   "outputs": [
    {
     "name": "stdout",
     "output_type": "stream",
     "text": [
      "852 [256, 512, 512, 256] 1\n",
      "(100, 852)\n"
     ]
    }
   ],
   "source": [
    "input_dim = load_batch(ind)[0].shape[1]\n",
    "output_dim = 1\n",
    "hidden_dim = [256, 512, 512, 256]\n",
    "print(input_dim,hidden_dim, output_dim)\n",
    "print(load_batch(ind)[0].shape)"
   ]
  },
  {
   "cell_type": "code",
   "execution_count": 38,
   "id": "f989ef65",
   "metadata": {},
   "outputs": [],
   "source": [
    "class ANNModel(torch.nn.Module):\n",
    "    def __init__(self, input_dim, hidden_dim, output_dim):\n",
    "        super(ANNModel, self).__init__()\n",
    "        self.fc1 = nn.Linear(input_dim, 256).double()\n",
    "        self.relu1 = nn.ReLU().double()\n",
    "        self.fc2 = nn.Linear(256, 512).double()\n",
    "        self.relu2 = nn.ReLU().double()\n",
    "        self.fc3 = nn.Linear(512, 512).double()\n",
    "        self.drop1 = nn.Dropout(p=0.2)\n",
    "        self.relu3 = nn.ReLU().double()\n",
    "        self.fc4 = nn.Linear(512, 64).double()\n",
    "        self.relu4 = nn.ReLU().double()\n",
    "        self.fc5 = nn.Linear(64, output_dim).double()\n",
    "        self.sigmoid = nn.Sigmoid().double()\n",
    "    def forward(self, input):\n",
    "        out = self.fc1(input)\n",
    "        out = self.relu1(out)\n",
    "        out = self.fc2(out)\n",
    "        out = self.relu2(out)\n",
    "        out = self.fc3(out)\n",
    "        out = self.drop1(out)\n",
    "        out = self.relu3(out)\n",
    "        out = self.fc4(out)\n",
    "        out = self.relu4(out)\n",
    "        out = self.fc5(out)\n",
    "        out = self.sigmoid(out)\n",
    "        return out"
   ]
  },
  {
   "cell_type": "code",
   "execution_count": 39,
   "id": "4732d997",
   "metadata": {},
   "outputs": [
    {
     "name": "stdout",
     "output_type": "stream",
     "text": [
      "ANNModel(\n",
      "  (fc1): Linear(in_features=852, out_features=256, bias=True)\n",
      "  (relu1): ReLU()\n",
      "  (fc2): Linear(in_features=256, out_features=512, bias=True)\n",
      "  (relu2): ReLU()\n",
      "  (fc3): Linear(in_features=512, out_features=512, bias=True)\n",
      "  (drop1): Dropout(p=0.2, inplace=False)\n",
      "  (relu3): ReLU()\n",
      "  (fc4): Linear(in_features=512, out_features=64, bias=True)\n",
      "  (relu4): ReLU()\n",
      "  (fc5): Linear(in_features=64, out_features=1, bias=True)\n",
      "  (sigmoid): Sigmoid()\n",
      ")\n"
     ]
    }
   ],
   "source": [
    "Model = ANNModel(input_dim,hidden_dim, output_dim)\n",
    "model = Model.to(device)\n",
    "print(model)"
   ]
  },
  {
   "cell_type": "code",
   "execution_count": 40,
   "id": "e5451c6d",
   "metadata": {},
   "outputs": [],
   "source": [
    "CrossEntropyLoss = nn.CrossEntropyLoss()\n",
    "learning_rate = 0.001\n",
    "optimizer = torch.optim.Adam(model.parameters(), lr = learning_rate)"
   ]
  },
  {
   "cell_type": "code",
   "execution_count": 41,
   "id": "5869e40e",
   "metadata": {},
   "outputs": [],
   "source": [
    "def get_acc(outputs, labels):\n",
    "    predict = torch.where(outputs>0.5, 1.0, 0.0)\n",
    "    total_num = labels.shape[0]\n",
    "    correct_num = (labels==predict).sum().item()\n",
    "    acc = correct_num/total_num\n",
    "    return correct_num, acc"
   ]
  },
  {
   "cell_type": "code",
   "execution_count": 28,
   "id": "75ebf536",
   "metadata": {},
   "outputs": [
    {
     "name": "stderr",
     "output_type": "stream",
     "text": [
      "  0%|          | 0/50 [00:00<?, ?it/s]"
     ]
    },
    {
     "name": "stdout",
     "output_type": "stream",
     "text": [
      "  epoch 1 training loss: 4.760493655840404 acc: 0.5902132752551924\n"
     ]
    },
    {
     "name": "stderr",
     "output_type": "stream",
     "text": [
      "  2%|▏         | 1/50 [01:08<55:35, 68.07s/it]"
     ]
    },
    {
     "name": "stdout",
     "output_type": "stream",
     "text": [
      "  epoch 1 testing loss: 4.733817566972491 acc: 0.6538193179502695\n",
      "  epoch 2 training loss: 4.740656808681477 acc: 0.6746997498930588\n"
     ]
    },
    {
     "name": "stderr",
     "output_type": "stream",
     "text": [
      "  4%|▍         | 2/50 [02:16<54:47, 68.49s/it]"
     ]
    },
    {
     "name": "stdout",
     "output_type": "stream",
     "text": [
      "  epoch 2 testing loss: 4.719237282116954 acc: 0.6828277339722019\n",
      "  epoch 3 training loss: 4.729219691483352 acc: 0.7037284149408282\n"
     ]
    },
    {
     "name": "stderr",
     "output_type": "stream",
     "text": [
      "  6%|▌         | 3/50 [03:24<53:16, 68.02s/it]"
     ]
    },
    {
     "name": "stdout",
     "output_type": "stream",
     "text": [
      "  epoch 3 testing loss: 4.71035095930452 acc: 0.7169538899145637\n",
      "  epoch 4 training loss: 4.7254995640672925 acc: 0.7135001147452638\n"
     ]
    },
    {
     "name": "stderr",
     "output_type": "stream",
     "text": [
      "  8%|▊         | 4/50 [04:29<51:22, 67.01s/it]"
     ]
    },
    {
     "name": "stdout",
     "output_type": "stream",
     "text": [
      "  epoch 4 testing loss: 4.707969146886188 acc: 0.7104365669875417\n",
      "  epoch 5 training loss: 4.720664309105539 acc: 0.7254816471039427\n"
     ]
    },
    {
     "name": "stderr",
     "output_type": "stream",
     "text": [
      " 10%|█         | 5/50 [05:34<49:44, 66.31s/it]"
     ]
    },
    {
     "name": "stdout",
     "output_type": "stream",
     "text": [
      "  epoch 5 testing loss: 4.704201505041197 acc: 0.7279807516172387\n",
      "  epoch 6 training loss: 4.718367236462973 acc: 0.7312971223122766\n"
     ]
    },
    {
     "name": "stderr",
     "output_type": "stream",
     "text": [
      " 12%|█▏        | 6/50 [06:40<48:20, 65.93s/it]"
     ]
    },
    {
     "name": "stdout",
     "output_type": "stream",
     "text": [
      "  epoch 6 testing loss: 4.706517748632735 acc: 0.7334164850296073\n",
      "  epoch 7 training loss: 4.71875293459047 acc: 0.7301047320672363\n"
     ]
    },
    {
     "name": "stderr",
     "output_type": "stream",
     "text": [
      " 14%|█▍        | 7/50 [07:44<47:00, 65.60s/it]"
     ]
    },
    {
     "name": "stdout",
     "output_type": "stream",
     "text": [
      "  epoch 7 testing loss: 4.702652366276523 acc: 0.724795671172089\n",
      "  epoch 8 training loss: 4.715850682932264 acc: 0.7369877327193461\n"
     ]
    },
    {
     "name": "stderr",
     "output_type": "stream",
     "text": [
      " 16%|█▌        | 8/50 [08:50<45:52, 65.54s/it]"
     ]
    },
    {
     "name": "stdout",
     "output_type": "stream",
     "text": [
      "  epoch 8 testing loss: 4.699805503223467 acc: 0.7441757793927868\n",
      "  epoch 9 training loss: 4.714878029857163 acc: 0.7397385317340119\n"
     ]
    },
    {
     "name": "stderr",
     "output_type": "stream",
     "text": [
      " 18%|█▊        | 9/50 [09:55<44:43, 65.45s/it]"
     ]
    },
    {
     "name": "stdout",
     "output_type": "stream",
     "text": [
      "  epoch 9 testing loss: 4.698858830455916 acc: 0.7361837487830831\n",
      "  epoch 10 training loss: 4.714227596769805 acc: 0.7411806515815808\n"
     ]
    },
    {
     "name": "stderr",
     "output_type": "stream",
     "text": [
      " 20%|██        | 10/50 [11:00<43:30, 65.27s/it]"
     ]
    },
    {
     "name": "stdout",
     "output_type": "stream",
     "text": [
      "  epoch 10 testing loss: 4.70149726779937 acc: 0.7255819075081453\n",
      "  epoch 11 training loss: 4.7217832367442165 acc: 0.6896430478949133\n"
     ]
    },
    {
     "name": "stderr",
     "output_type": "stream",
     "text": [
      " 22%|██▏       | 11/50 [12:05<42:26, 65.31s/it]"
     ]
    },
    {
     "name": "stdout",
     "output_type": "stream",
     "text": [
      "  epoch 11 testing loss: 4.704052604598762 acc: 0.7003914715997851\n"
     ]
    },
    {
     "name": "stderr",
     "output_type": "stream",
     "text": [
      " 22%|██▏       | 11/50 [12:46<45:18, 69.71s/it]\n"
     ]
    },
    {
     "ename": "KeyboardInterrupt",
     "evalue": "",
     "output_type": "error",
     "traceback": [
      "\u001b[1;31m---------------------------------------------------------------------------\u001b[0m",
      "\u001b[1;31mKeyboardInterrupt\u001b[0m                         Traceback (most recent call last)",
      "Cell \u001b[1;32mIn[28], line 18\u001b[0m\n\u001b[0;32m     16\u001b[0m     indx \u001b[38;5;241m=\u001b[39m train[i:i\u001b[38;5;241m+\u001b[39mbatch_size]\n\u001b[0;32m     17\u001b[0m \u001b[38;5;28;01melse\u001b[39;00m: indx \u001b[38;5;241m=\u001b[39m train[i:]\n\u001b[1;32m---> 18\u001b[0m batch_X_train, batch_y_train \u001b[38;5;241m=\u001b[39m \u001b[43mload_batch\u001b[49m\u001b[43m(\u001b[49m\u001b[43mindx\u001b[49m\u001b[43m)\u001b[49m\n\u001b[0;32m     19\u001b[0m batch_X_train \u001b[38;5;241m=\u001b[39m torch\u001b[38;5;241m.\u001b[39mfrom_numpy(batch_X_train)\n\u001b[0;32m     20\u001b[0m batch_y_train \u001b[38;5;241m=\u001b[39m torch\u001b[38;5;241m.\u001b[39mfrom_numpy(batch_y_train)\n",
      "Cell \u001b[1;32mIn[17], line 14\u001b[0m, in \u001b[0;36mload_batch\u001b[1;34m(ind)\u001b[0m\n\u001b[0;32m     12\u001b[0m batch \u001b[38;5;241m=\u001b[39m pd\u001b[38;5;241m.\u001b[39mmerge(batch, facility_data, how\u001b[38;5;241m=\u001b[39m\u001b[38;5;124m\"\u001b[39m\u001b[38;5;124mleft\u001b[39m\u001b[38;5;124m\"\u001b[39m, left_on\u001b[38;5;241m=\u001b[39m[\u001b[38;5;124m\"\u001b[39m\u001b[38;5;124mSTFIPS\u001b[39m\u001b[38;5;124m\"\u001b[39m, \u001b[38;5;124m\"\u001b[39m\u001b[38;5;124mDISYR\u001b[39m\u001b[38;5;124m\"\u001b[39m], right_on\u001b[38;5;241m=\u001b[39m[\u001b[38;5;124m\"\u001b[39m\u001b[38;5;124mstate_fips\u001b[39m\u001b[38;5;124m\"\u001b[39m, \u001b[38;5;124m\"\u001b[39m\u001b[38;5;124myear\u001b[39m\u001b[38;5;124m\"\u001b[39m])\n\u001b[0;32m     13\u001b[0m batch \u001b[38;5;241m=\u001b[39m batch\u001b[38;5;241m.\u001b[39mdrop(labels\u001b[38;5;241m=\u001b[39m[\u001b[38;5;124m\"\u001b[39m\u001b[38;5;124mstate_fips\u001b[39m\u001b[38;5;124m\"\u001b[39m, \u001b[38;5;124m\"\u001b[39m\u001b[38;5;124myear\u001b[39m\u001b[38;5;124m\"\u001b[39m], axis\u001b[38;5;241m=\u001b[39m\u001b[38;5;241m1\u001b[39m)\n\u001b[1;32m---> 14\u001b[0m X \u001b[38;5;241m=\u001b[39m \u001b[43mbatch\u001b[49m\u001b[38;5;241;43m.\u001b[39;49m\u001b[43mvalues\u001b[49m[:, \u001b[38;5;241m4\u001b[39m:]\n\u001b[0;32m     15\u001b[0m y \u001b[38;5;241m=\u001b[39m batch\u001b[38;5;241m.\u001b[39mREASON\u001b[38;5;241m.\u001b[39mvalues\n\u001b[0;32m     16\u001b[0m y \u001b[38;5;241m=\u001b[39m np\u001b[38;5;241m.\u001b[39mint16(y\u001b[38;5;241m==\u001b[39m\u001b[38;5;241m1\u001b[39m)\n",
      "File \u001b[1;32m~\\anaconda3\\lib\\site-packages\\pandas\\core\\frame.py:11738\u001b[0m, in \u001b[0;36mDataFrame.values\u001b[1;34m(self)\u001b[0m\n\u001b[0;32m  11664\u001b[0m \u001b[38;5;129m@property\u001b[39m\n\u001b[0;32m  11665\u001b[0m \u001b[38;5;28;01mdef\u001b[39;00m \u001b[38;5;21mvalues\u001b[39m(\u001b[38;5;28mself\u001b[39m) \u001b[38;5;241m-\u001b[39m\u001b[38;5;241m>\u001b[39m np\u001b[38;5;241m.\u001b[39mndarray:\n\u001b[0;32m  11666\u001b[0m     \u001b[38;5;124;03m\"\"\"\u001b[39;00m\n\u001b[0;32m  11667\u001b[0m \u001b[38;5;124;03m    Return a Numpy representation of the DataFrame.\u001b[39;00m\n\u001b[0;32m  11668\u001b[0m \n\u001b[1;32m   (...)\u001b[0m\n\u001b[0;32m  11736\u001b[0m \u001b[38;5;124;03m           ['monkey', nan, None]], dtype=object)\u001b[39;00m\n\u001b[0;32m  11737\u001b[0m \u001b[38;5;124;03m    \"\"\"\u001b[39;00m\n\u001b[1;32m> 11738\u001b[0m     \u001b[38;5;28;43mself\u001b[39;49m\u001b[38;5;241;43m.\u001b[39;49m\u001b[43m_consolidate_inplace\u001b[49m\u001b[43m(\u001b[49m\u001b[43m)\u001b[49m\n\u001b[0;32m  11739\u001b[0m     \u001b[38;5;28;01mreturn\u001b[39;00m \u001b[38;5;28mself\u001b[39m\u001b[38;5;241m.\u001b[39m_mgr\u001b[38;5;241m.\u001b[39mas_array()\n",
      "File \u001b[1;32m~\\anaconda3\\lib\\site-packages\\pandas\\core\\generic.py:5980\u001b[0m, in \u001b[0;36mNDFrame._consolidate_inplace\u001b[1;34m(self)\u001b[0m\n\u001b[0;32m   5977\u001b[0m \u001b[38;5;28;01mdef\u001b[39;00m \u001b[38;5;21mf\u001b[39m():\n\u001b[0;32m   5978\u001b[0m     \u001b[38;5;28mself\u001b[39m\u001b[38;5;241m.\u001b[39m_mgr \u001b[38;5;241m=\u001b[39m \u001b[38;5;28mself\u001b[39m\u001b[38;5;241m.\u001b[39m_mgr\u001b[38;5;241m.\u001b[39mconsolidate()\n\u001b[1;32m-> 5980\u001b[0m \u001b[38;5;28;43mself\u001b[39;49m\u001b[38;5;241;43m.\u001b[39;49m\u001b[43m_protect_consolidate\u001b[49m\u001b[43m(\u001b[49m\u001b[43mf\u001b[49m\u001b[43m)\u001b[49m\n",
      "File \u001b[1;32m~\\anaconda3\\lib\\site-packages\\pandas\\core\\generic.py:5968\u001b[0m, in \u001b[0;36mNDFrame._protect_consolidate\u001b[1;34m(self, f)\u001b[0m\n\u001b[0;32m   5966\u001b[0m     \u001b[38;5;28;01mreturn\u001b[39;00m f()\n\u001b[0;32m   5967\u001b[0m blocks_before \u001b[38;5;241m=\u001b[39m \u001b[38;5;28mlen\u001b[39m(\u001b[38;5;28mself\u001b[39m\u001b[38;5;241m.\u001b[39m_mgr\u001b[38;5;241m.\u001b[39mblocks)\n\u001b[1;32m-> 5968\u001b[0m result \u001b[38;5;241m=\u001b[39m \u001b[43mf\u001b[49m\u001b[43m(\u001b[49m\u001b[43m)\u001b[49m\n\u001b[0;32m   5969\u001b[0m \u001b[38;5;28;01mif\u001b[39;00m \u001b[38;5;28mlen\u001b[39m(\u001b[38;5;28mself\u001b[39m\u001b[38;5;241m.\u001b[39m_mgr\u001b[38;5;241m.\u001b[39mblocks) \u001b[38;5;241m!=\u001b[39m blocks_before:\n\u001b[0;32m   5970\u001b[0m     \u001b[38;5;28mself\u001b[39m\u001b[38;5;241m.\u001b[39m_clear_item_cache()\n",
      "File \u001b[1;32m~\\anaconda3\\lib\\site-packages\\pandas\\core\\generic.py:5978\u001b[0m, in \u001b[0;36mNDFrame._consolidate_inplace.<locals>.f\u001b[1;34m()\u001b[0m\n\u001b[0;32m   5977\u001b[0m \u001b[38;5;28;01mdef\u001b[39;00m \u001b[38;5;21mf\u001b[39m():\n\u001b[1;32m-> 5978\u001b[0m     \u001b[38;5;28mself\u001b[39m\u001b[38;5;241m.\u001b[39m_mgr \u001b[38;5;241m=\u001b[39m \u001b[38;5;28;43mself\u001b[39;49m\u001b[38;5;241;43m.\u001b[39;49m\u001b[43m_mgr\u001b[49m\u001b[38;5;241;43m.\u001b[39;49m\u001b[43mconsolidate\u001b[49m\u001b[43m(\u001b[49m\u001b[43m)\u001b[49m\n",
      "File \u001b[1;32m~\\anaconda3\\lib\\site-packages\\pandas\\core\\internals\\managers.py:686\u001b[0m, in \u001b[0;36mBaseBlockManager.consolidate\u001b[1;34m(self)\u001b[0m\n\u001b[0;32m    684\u001b[0m bm \u001b[38;5;241m=\u001b[39m \u001b[38;5;28mtype\u001b[39m(\u001b[38;5;28mself\u001b[39m)(\u001b[38;5;28mself\u001b[39m\u001b[38;5;241m.\u001b[39mblocks, \u001b[38;5;28mself\u001b[39m\u001b[38;5;241m.\u001b[39maxes, \u001b[38;5;28mself\u001b[39m\u001b[38;5;241m.\u001b[39mrefs, verify_integrity\u001b[38;5;241m=\u001b[39m\u001b[38;5;28;01mFalse\u001b[39;00m)\n\u001b[0;32m    685\u001b[0m bm\u001b[38;5;241m.\u001b[39m_is_consolidated \u001b[38;5;241m=\u001b[39m \u001b[38;5;28;01mFalse\u001b[39;00m\n\u001b[1;32m--> 686\u001b[0m \u001b[43mbm\u001b[49m\u001b[38;5;241;43m.\u001b[39;49m\u001b[43m_consolidate_inplace\u001b[49m\u001b[43m(\u001b[49m\u001b[43m)\u001b[49m\n\u001b[0;32m    687\u001b[0m \u001b[38;5;28;01mreturn\u001b[39;00m bm\n",
      "File \u001b[1;32m~\\anaconda3\\lib\\site-packages\\pandas\\core\\internals\\managers.py:1873\u001b[0m, in \u001b[0;36mBlockManager._consolidate_inplace\u001b[1;34m(self)\u001b[0m\n\u001b[0;32m   1871\u001b[0m     \u001b[38;5;28mself\u001b[39m\u001b[38;5;241m.\u001b[39mblocks \u001b[38;5;241m=\u001b[39m _consolidate(\u001b[38;5;28mself\u001b[39m\u001b[38;5;241m.\u001b[39mblocks)\n\u001b[0;32m   1872\u001b[0m \u001b[38;5;28;01melse\u001b[39;00m:\n\u001b[1;32m-> 1873\u001b[0m     \u001b[38;5;28mself\u001b[39m\u001b[38;5;241m.\u001b[39mblocks, \u001b[38;5;28mself\u001b[39m\u001b[38;5;241m.\u001b[39mrefs \u001b[38;5;241m=\u001b[39m \u001b[43m_consolidate_with_refs\u001b[49m\u001b[43m(\u001b[49m\u001b[38;5;28;43mself\u001b[39;49m\u001b[38;5;241;43m.\u001b[39;49m\u001b[43mblocks\u001b[49m\u001b[43m,\u001b[49m\u001b[43m \u001b[49m\u001b[38;5;28;43mself\u001b[39;49m\u001b[38;5;241;43m.\u001b[39;49m\u001b[43mrefs\u001b[49m\u001b[43m)\u001b[49m\n\u001b[0;32m   1874\u001b[0m \u001b[38;5;28mself\u001b[39m\u001b[38;5;241m.\u001b[39m_is_consolidated \u001b[38;5;241m=\u001b[39m \u001b[38;5;28;01mTrue\u001b[39;00m\n\u001b[0;32m   1875\u001b[0m \u001b[38;5;28mself\u001b[39m\u001b[38;5;241m.\u001b[39m_known_consolidated \u001b[38;5;241m=\u001b[39m \u001b[38;5;28;01mTrue\u001b[39;00m\n",
      "File \u001b[1;32m~\\anaconda3\\lib\\site-packages\\pandas\\core\\internals\\managers.py:2350\u001b[0m, in \u001b[0;36m_consolidate_with_refs\u001b[1;34m(blocks, refs)\u001b[0m\n\u001b[0;32m   2348\u001b[0m \u001b[38;5;28;01mfor\u001b[39;00m (_can_consolidate, dtype), group_blocks_refs \u001b[38;5;129;01min\u001b[39;00m grouper:\n\u001b[0;32m   2349\u001b[0m     group_blocks, group_refs \u001b[38;5;241m=\u001b[39m \u001b[38;5;28mlist\u001b[39m(\u001b[38;5;28mzip\u001b[39m(\u001b[38;5;241m*\u001b[39m\u001b[38;5;28mlist\u001b[39m(group_blocks_refs)))\n\u001b[1;32m-> 2350\u001b[0m     merged_blocks, consolidated \u001b[38;5;241m=\u001b[39m \u001b[43m_merge_blocks\u001b[49m\u001b[43m(\u001b[49m\n\u001b[0;32m   2351\u001b[0m \u001b[43m        \u001b[49m\u001b[38;5;28;43mlist\u001b[39;49m\u001b[43m(\u001b[49m\u001b[43mgroup_blocks\u001b[49m\u001b[43m)\u001b[49m\u001b[43m,\u001b[49m\u001b[43m \u001b[49m\u001b[43mdtype\u001b[49m\u001b[38;5;241;43m=\u001b[39;49m\u001b[43mdtype\u001b[49m\u001b[43m,\u001b[49m\u001b[43m \u001b[49m\u001b[43mcan_consolidate\u001b[49m\u001b[38;5;241;43m=\u001b[39;49m\u001b[43m_can_consolidate\u001b[49m\n\u001b[0;32m   2352\u001b[0m \u001b[43m    \u001b[49m\u001b[43m)\u001b[49m\n\u001b[0;32m   2353\u001b[0m     new_blocks \u001b[38;5;241m=\u001b[39m extend_blocks(merged_blocks, new_blocks)\n\u001b[0;32m   2354\u001b[0m     \u001b[38;5;28;01mif\u001b[39;00m consolidated:\n",
      "File \u001b[1;32m~\\anaconda3\\lib\\site-packages\\pandas\\core\\internals\\managers.py:2381\u001b[0m, in \u001b[0;36m_merge_blocks\u001b[1;34m(blocks, dtype, can_consolidate)\u001b[0m\n\u001b[0;32m   2374\u001b[0m new_values: ArrayLike\n\u001b[0;32m   2376\u001b[0m \u001b[38;5;28;01mif\u001b[39;00m \u001b[38;5;28misinstance\u001b[39m(blocks[\u001b[38;5;241m0\u001b[39m]\u001b[38;5;241m.\u001b[39mdtype, np\u001b[38;5;241m.\u001b[39mdtype):\n\u001b[0;32m   2377\u001b[0m     \u001b[38;5;66;03m# error: List comprehension has incompatible type List[Union[ndarray,\u001b[39;00m\n\u001b[0;32m   2378\u001b[0m     \u001b[38;5;66;03m# ExtensionArray]]; expected List[Union[complex, generic,\u001b[39;00m\n\u001b[0;32m   2379\u001b[0m     \u001b[38;5;66;03m# Sequence[Union[int, float, complex, str, bytes, generic]],\u001b[39;00m\n\u001b[0;32m   2380\u001b[0m     \u001b[38;5;66;03m# Sequence[Sequence[Any]], SupportsArray]]\u001b[39;00m\n\u001b[1;32m-> 2381\u001b[0m     new_values \u001b[38;5;241m=\u001b[39m \u001b[43mnp\u001b[49m\u001b[38;5;241;43m.\u001b[39;49m\u001b[43mvstack\u001b[49m\u001b[43m(\u001b[49m\u001b[43m[\u001b[49m\u001b[43mb\u001b[49m\u001b[38;5;241;43m.\u001b[39;49m\u001b[43mvalues\u001b[49m\u001b[43m \u001b[49m\u001b[38;5;28;43;01mfor\u001b[39;49;00m\u001b[43m \u001b[49m\u001b[43mb\u001b[49m\u001b[43m \u001b[49m\u001b[38;5;129;43;01min\u001b[39;49;00m\u001b[43m \u001b[49m\u001b[43mblocks\u001b[49m\u001b[43m]\u001b[49m\u001b[43m)\u001b[49m  \u001b[38;5;66;03m# type: ignore[misc]\u001b[39;00m\n\u001b[0;32m   2382\u001b[0m \u001b[38;5;28;01melse\u001b[39;00m:\n\u001b[0;32m   2383\u001b[0m     bvals \u001b[38;5;241m=\u001b[39m [blk\u001b[38;5;241m.\u001b[39mvalues \u001b[38;5;28;01mfor\u001b[39;00m blk \u001b[38;5;129;01min\u001b[39;00m blocks]\n",
      "File \u001b[1;32m<__array_function__ internals>:180\u001b[0m, in \u001b[0;36mvstack\u001b[1;34m(*args, **kwargs)\u001b[0m\n",
      "File \u001b[1;32m~\\anaconda3\\lib\\site-packages\\numpy\\core\\shape_base.py:282\u001b[0m, in \u001b[0;36mvstack\u001b[1;34m(tup)\u001b[0m\n\u001b[0;32m    280\u001b[0m \u001b[38;5;28;01mif\u001b[39;00m \u001b[38;5;129;01mnot\u001b[39;00m \u001b[38;5;28misinstance\u001b[39m(arrs, \u001b[38;5;28mlist\u001b[39m):\n\u001b[0;32m    281\u001b[0m     arrs \u001b[38;5;241m=\u001b[39m [arrs]\n\u001b[1;32m--> 282\u001b[0m \u001b[38;5;28;01mreturn\u001b[39;00m \u001b[43m_nx\u001b[49m\u001b[38;5;241;43m.\u001b[39;49m\u001b[43mconcatenate\u001b[49m\u001b[43m(\u001b[49m\u001b[43marrs\u001b[49m\u001b[43m,\u001b[49m\u001b[43m \u001b[49m\u001b[38;5;241;43m0\u001b[39;49m\u001b[43m)\u001b[49m\n",
      "File \u001b[1;32m<__array_function__ internals>:180\u001b[0m, in \u001b[0;36mconcatenate\u001b[1;34m(*args, **kwargs)\u001b[0m\n",
      "\u001b[1;31mKeyboardInterrupt\u001b[0m: "
     ]
    }
   ],
   "source": [
    "epoch_num = 50 \n",
    "batch_size = 100000\n",
    "train_acc = []\n",
    "test_acc = []\n",
    "train_loss = []\n",
    "test_loss = []\n",
    "for epoch in tqdm.trange(epoch_num):\n",
    "    running_loss = 0\n",
    "    running_acc = 0\n",
    "    running_correct = 0\n",
    "    last_loss = 0\n",
    "    last_acc = 0\n",
    "    for i in range(0, train.shape[0], batch_size):\n",
    "#         torch.cuda.empty_cache()\n",
    "        if i+batch_size-1<train.shape[0]:\n",
    "            indx = train[i:i+batch_size]\n",
    "        else: indx = train[i:]\n",
    "        batch_X_train, batch_y_train = load_batch(indx)\n",
    "        batch_X_train = torch.from_numpy(batch_X_train)\n",
    "        batch_y_train = torch.from_numpy(batch_y_train)\n",
    "        batch_X_train, batch_y_train = batch_X_train.to(device), batch_y_train.to(device, dtype=torch.float64)\n",
    "        model.zero_grad()\n",
    "        optimizer.zero_grad()\n",
    "        outputs = model(batch_X_train)\n",
    "        loss = CrossEntropyLoss(outputs.flatten(), batch_y_train)\n",
    "        loss.backward()\n",
    "        optimizer.step()\n",
    "        \n",
    "        running_loss += loss.item()\n",
    "        temp, running_acc = get_acc(outputs.flatten(), batch_y_train)\n",
    "        running_correct += temp\n",
    "    train = shuffle(train)\n",
    "    last_loss = running_loss / train.shape[0] # loss per epoch\n",
    "    last_acc = running_correct/ train.shape[0]\n",
    "    print('  epoch {} training loss: {} acc: {}'.format(epoch + 1, last_loss, last_acc))\n",
    "    train_acc.append(last_acc)\n",
    "    train_loss.append(last_loss)\n",
    "    running_loss = 0\n",
    "    running_acc = 0\n",
    "    running_correct = 0\n",
    "    last_loss = 0\n",
    "    last_acc = 0\n",
    "    for i in range(0, test.shape[0], batch_size):\n",
    "#         torch.cuda.empty_cache()\n",
    "            if i+batch_size-1<test.shape[0]:\n",
    "                indx = test[i:i+batch_size]\n",
    "            else: indx = test[i:]\n",
    "            batch_X_test, batch_y_test = load_batch(indx)\n",
    "            batch_X_test = torch.from_numpy(batch_X_test)\n",
    "            batch_y_test = torch.from_numpy(batch_y_test)\n",
    "            batch_X_test, batch_y_test = batch_X_test.to(device), batch_y_test.to(device, dtype=torch.float64)\n",
    "            outputs_test = model(batch_X_test)\n",
    "            loss = CrossEntropyLoss(outputs_test.flatten(), batch_y_test)\n",
    "            running_loss += loss.item()\n",
    "            temp, running_acc = get_acc(outputs_test.flatten(), batch_y_test)\n",
    "            running_correct += temp\n",
    "    last_loss = running_loss / test.shape[0] # loss per epoch\n",
    "    last_acc = running_correct/ test.shape[0]\n",
    "    print('  epoch {} testing loss: {} acc: {}'.format(epoch +1, last_loss, last_acc))\n",
    "    test_acc.append(last_acc)\n",
    "    test_loss.append(last_loss)\n",
    "    "
   ]
  },
  {
   "cell_type": "code",
   "execution_count": null,
   "id": "651e9700",
   "metadata": {},
   "outputs": [],
   "source": [
    "PATH = 'data/state_fac_model_los_final.pth'\n",
    "torch.save(model.state_dict(), PATH)"
   ]
  },
  {
   "cell_type": "code",
   "execution_count": 17,
   "id": "a792531d",
   "metadata": {},
   "outputs": [
    {
     "data": {
      "text/plain": [
       "<matplotlib.legend.Legend at 0x1a562da3c70>"
      ]
     },
     "execution_count": 17,
     "metadata": {},
     "output_type": "execute_result"
    },
    {
     "data": {
      "image/png": "[encoded data removed]",
      "text/plain": [
       "<Figure size 640x480 with 1 Axes>"
      ]
     },
     "metadata": {},
     "output_type": "display_data"
    }
   ],
   "source": [
    "num = np.arange(0,100)+1\n",
    "plt.plot(num, train_acc, label='train')\n",
    "plt.plot(num, test_acc, label='test')\n",
    "plt.xlabel('epoch_num')\n",
    "plt.ylabel('loss')\n",
    "plt.legend()"
   ]
  },
  {
   "cell_type": "code",
   "execution_count": 19,
   "id": "1891255b",
   "metadata": {},
   "outputs": [
    {
     "data": {
      "text/plain": [
       "<matplotlib.legend.Legend at 0x1a506c3bc40>"
      ]
     },
     "execution_count": 19,
     "metadata": {},
     "output_type": "execute_result"
    },
    {
     "data": {
      "image/png": "[encoded data removed]",
      "text/plain": [
       "<Figure size 640x480 with 1 Axes>"
      ]
     },
     "metadata": {},
     "output_type": "display_data"
    }
   ],
   "source": [
    "num = np.arange(0,100)+1\n",
    "plt.plot(num, train_loss, label='train')\n",
    "plt.plot(num, test_loss, label='test')\n",
    "plt.xlabel('epoch_num')\n",
    "plt.ylabel('loss')\n",
    "plt.legend()"
   ]
  },
  {
   "cell_type": "code",
   "execution_count": 42,
   "id": "0aaff706",
   "metadata": {},
   "outputs": [
    {
     "data": {
      "text/plain": [
       "ANNModel(\n",
       "  (fc1): Linear(in_features=852, out_features=256, bias=True)\n",
       "  (relu1): ReLU()\n",
       "  (fc2): Linear(in_features=256, out_features=512, bias=True)\n",
       "  (relu2): ReLU()\n",
       "  (fc3): Linear(in_features=512, out_features=512, bias=True)\n",
       "  (drop1): Dropout(p=0.2, inplace=False)\n",
       "  (relu3): ReLU()\n",
       "  (fc4): Linear(in_features=512, out_features=64, bias=True)\n",
       "  (relu4): ReLU()\n",
       "  (fc5): Linear(in_features=64, out_features=1, bias=True)\n",
       "  (sigmoid): Sigmoid()\n",
       ")"
      ]
     },
     "execution_count": 42,
     "metadata": {},
     "output_type": "execute_result"
    }
   ],
   "source": [
    "PATH = 'data/state_fac_model_2.pth'\n",
    "model.load_state_dict(torch.load(PATH))\n",
    "model.eval()"
   ]
  },
  {
   "cell_type": "code",
   "execution_count": 27,
   "id": "4c82b1d7",
   "metadata": {
    "scrolled": false
   },
   "outputs": [
    {
     "name": "stdout",
     "output_type": "stream",
     "text": [
      "0.7870665251238501\n",
      "0.8154579239244271\n"
     ]
    }
   ],
   "source": [
    "from sklearn.metrics import roc_curve, RocCurveDisplay, roc_auc_score\n",
    "from sklearn.metrics import confusion_matrix, ConfusionMatrixDisplay\n",
    "from sklearn.metrics import accuracy_score, f1_score\n",
    "\n",
    "X_test, y_test = load_batch(test[0:50000])\n",
    "X_test = torch.from_numpy(X_test)\n",
    "# y_test = torch.from_numpy(y_test)\n",
    "X_test= X_test.to(device)\n",
    "y_pred_test = model.forward(X_test)\n",
    "y_pred_test = torch.where(y_pred_test>0.5, 1.0, 0.0)\n",
    "y_pred_test = y_pred_test.cpu().detach().numpy()\n",
    "print(f1_score(y_test, y_pred_test))\n",
    "print(roc_auc_score(y_test, y_pred_test))"
   ]
  },
  {
   "cell_type": "code",
   "execution_count": 43,
   "id": "3807dae2",
   "metadata": {},
   "outputs": [
    {
     "name": "stdout",
     "output_type": "stream",
     "text": [
      "  epoch 1 testing loss: 4.65540507238985 acc: 0.8354491735256525\n"
     ]
    }
   ],
   "source": [
    "running_loss = 0\n",
    "running_acc = 0\n",
    "running_correct = 0\n",
    "last_loss = 0\n",
    "last_acc = 0\n",
    "batch_size = 100000\n",
    "for i in range(0, test.shape[0], batch_size):\n",
    "#         torch.cuda.empty_cache()\n",
    "            if i+batch_size-1<test.shape[0]:\n",
    "                indx = test[i:i+batch_size]\n",
    "            else: indx = test[i:]\n",
    "            batch_X_test, batch_y_test = load_batch(indx)\n",
    "            batch_X_test = torch.from_numpy(batch_X_test)\n",
    "            batch_y_test = torch.from_numpy(batch_y_test)\n",
    "            batch_X_test, batch_y_test = batch_X_test.to(device), batch_y_test.to(device, dtype=torch.float64)\n",
    "            outputs_test = model(batch_X_test)\n",
    "            loss = CrossEntropyLoss(outputs_test.flatten(), batch_y_test)\n",
    "            running_loss += loss.item()\n",
    "            temp, running_acc = get_acc(outputs_test.flatten(), batch_y_test)\n",
    "            running_correct += temp\n",
    "last_loss = running_loss / test.shape[0] # loss per epoch\n",
    "last_acc = running_correct/ test.shape[0]\n",
    "print('  epoch {} testing loss: {} acc: {}'.format(1, last_loss, last_acc))"
   ]
  },
  {
   "cell_type": "code",
   "execution_count": 128,
   "id": "b137378a",
   "metadata": {},
   "outputs": [],
   "source": [
    "import shap\n",
    "def load_batch2(ind):\n",
    "    batch = df.loc[ind]\n",
    "    batch = pd.merge(batch, state_data, how=\"left\", left_on=[\"STFIPS\", \"DISYR\"], right_on=[\"fips\", \"Year\"])\n",
    "    batch = batch.drop(labels=[\"fips\", \"Year\"], axis=1)\n",
    "#     batch = pd.merge(batch, CBSA_data, how=\"left\", left_on=[\"CBSA\", \"DISYR\"], right_on=[\"CBSA\", \"Year\"])\n",
    "#     batch = batch.drop(labels=[ \"Year\"], axis=1)\n",
    "    batch = pd.merge(batch, facility_data, how=\"left\", left_on=[\"STFIPS\", \"DISYR\"], right_on=[\"state_fips\", \"year\"])\n",
    "    batch = batch.drop(labels=[\"state_fips\", \"year\"], axis=1)\n",
    "    X = batch.values[:, 4:]\n",
    "    y = batch.REASON.values\n",
    "    y = np.int16(y==1)\n",
    "    return X, y, batch.columns[4:]\n",
    "batch_size = 3000\n",
    "torch.set_grad_enabled(True)\n",
    "ind = test[:batch_size]\n",
    "test_data, _,feature_name = load_batch2(ind)\n",
    "e = shap.DeepExplainer(model, Variable( torch.from_numpy( test_data).to(device) ) ) "
   ]
  },
  {
   "cell_type": "code",
   "execution_count": 129,
   "id": "8c9c3db8",
   "metadata": {},
   "outputs": [
    {
     "data": {
      "text/plain": [
       "Index(['EMPLOY_D_1', 'EMPLOY_D_2', 'EMPLOY_D_3', 'EMPLOY_D_4', 'MARSTAT_1',\n",
       "       'MARSTAT_2', 'MARSTAT_3', 'MARSTAT_4', 'PRIMINC_1', 'PRIMINC_2',\n",
       "       ...\n",
       "       'REVCHK1', 'REVCHK8', 'REVCHK5', 'REVCHK10', 'REVCHK15', 'REVCHK2',\n",
       "       'REVCHK17', 'LOC5', 'LICEN', 'ACCRED'],\n",
       "      dtype='object', length=852)"
      ]
     },
     "execution_count": 129,
     "metadata": {},
     "output_type": "execute_result"
    }
   ],
   "source": [
    "feature_name"
   ]
  },
  {
   "cell_type": "code",
   "execution_count": 130,
   "id": "76b58be9",
   "metadata": {},
   "outputs": [
    {
     "name": "stderr",
     "output_type": "stream",
     "text": [
      "Using a non-full backward hook when the forward contains multiple autograd Nodes is deprecated and will be removed in future versions. This hook will be missing some grad_input. Please use register_full_backward_hook to get the documented behavior.\n"
     ]
    }
   ],
   "source": [
    "# Get the shap values from my test data (this explainer likes tensors)\n",
    "shap_values = e.shap_values( Variable( torch.from_numpy( test_data).to(device)) )"
   ]
  },
  {
   "cell_type": "code",
   "execution_count": 131,
   "id": "72bda6ae",
   "metadata": {},
   "outputs": [
    {
     "name": "stdout",
     "output_type": "stream",
     "text": [
      "(3000, 852)\n"
     ]
    }
   ],
   "source": [
    "print(shap_values.shape)"
   ]
  },
  {
   "cell_type": "code",
   "execution_count": 133,
   "id": "56c10041",
   "metadata": {},
   "outputs": [
    {
     "data": {
      "image/png": "[encoded data removed]",
      "text/plain": [
       "<Figure size 800x550 with 2 Axes>"
      ]
     },
     "metadata": {},
     "output_type": "display_data"
    }
   ],
   "source": [
    "# Plots\n",
    "#shap.force_plot(explainer.expected_value, shap_values, feature_name)\n",
    "#shap.dependence_plot(\"b1_price_avg\", shap_values, data, feature_name)\n",
    "shap.summary_plot(shap_values, test_data, feature_name, max_display=10)"
   ]
  },
  {
   "cell_type": "code",
   "execution_count": 221,
   "id": "11441b11",
   "metadata": {},
   "outputs": [],
   "source": [
    "def load_batch3(ind):\n",
    "    batch = df.loc[ind]\n",
    "    batch = pd.merge(batch, state_data, how=\"left\", left_on=[\"STFIPS\", \"DISYR\"], right_on=[\"fips\", \"Year\"])\n",
    "    batch = batch.drop(labels=[\"fips\", \"Year\"], axis=1)\n",
    "#     batch = pd.merge(batch, CBSA_data, how=\"left\", left_on=[\"CBSA\", \"DISYR\"], right_on=[\"CBSA\", \"Year\"])\n",
    "#     batch = batch.drop(labels=[ \"Year\"], axis=1)\n",
    "    batch = pd.merge(batch, facility_data, how=\"left\", left_on=[\"STFIPS\", \"DISYR\"], right_on=[\"state_fips\", \"year\"])\n",
    "    batch = batch.drop(labels=[\"year\"], axis=1)\n",
    "\n",
    "    return batch"
   ]
  },
  {
   "cell_type": "code",
   "execution_count": 222,
   "id": "9af72b30",
   "metadata": {},
   "outputs": [],
   "source": [
    "stfips = [15, 20, 16, 21, 18, 37]"
   ]
  },
  {
   "cell_type": "code",
   "execution_count": 223,
   "id": "f17443ab",
   "metadata": {},
   "outputs": [],
   "source": [
    "batch = load_batch3(test)"
   ]
  },
  {
   "cell_type": "code",
   "execution_count": 224,
   "id": "8727d39d",
   "metadata": {},
   "outputs": [],
   "source": [
    "a = batch[batch['STFIPS']==8]\n",
    "a = a.iloc[:, 4:]\n",
    "a = a.drop(labels=[\"state_fips\"], axis=1)\n",
    "feature_name = a.columns\n",
    "torch.set_grad_enabled(True)\n",
    "test_data = a.values[0:3000]\n"
   ]
  },
  {
   "cell_type": "code",
   "execution_count": 225,
   "id": "60e3916d",
   "metadata": {},
   "outputs": [
    {
     "data": {
      "text/plain": [
       "(3000, 852)"
      ]
     },
     "execution_count": 225,
     "metadata": {},
     "output_type": "execute_result"
    }
   ],
   "source": [
    "test_data.shape"
   ]
  },
  {
   "cell_type": "code",
   "execution_count": 226,
   "id": "fbc54f6a",
   "metadata": {},
   "outputs": [],
   "source": [
    "import shap\n",
    "e = shap.DeepExplainer(model, Variable( torch.from_numpy( test_data).to(device) ) ) "
   ]
  },
  {
   "cell_type": "code",
   "execution_count": null,
   "id": "c6269ac6",
   "metadata": {},
   "outputs": [
    {
     "name": "stderr",
     "output_type": "stream",
     "text": [
      "Using a non-full backward hook when the forward contains multiple autograd Nodes is deprecated and will be removed in future versions. This hook will be missing some grad_input. Please use register_full_backward_hook to get the documented behavior.\n"
     ]
    }
   ],
   "source": [
    "shap_values = e.shap_values( Variable( torch.from_numpy( test_data).to(device)) )\n"
   ]
  },
  {
   "cell_type": "code",
   "execution_count": null,
   "id": "3ae33102",
   "metadata": {
    "scrolled": false
   },
   "outputs": [],
   "source": [
    "shap.summary_plot(shap_values, test_data, feature_name, max_display=10)"
   ]
  },
  {
   "cell_type": "code",
   "execution_count": 195,
   "id": "827b9750",
   "metadata": {},
   "outputs": [
    {
     "name": "stdout",
     "output_type": "stream",
     "text": [
      "[[-8.96182095e-03  1.21921657e-01 -1.31426138e-02 ...  3.74027248e-03\n",
      "  -1.68513386e-03  7.42545432e-04]\n",
      " [-9.83012110e-03 -4.26018583e-03  2.55738853e-02 ...  9.53342987e-05\n",
      "  -4.14840129e-06 -6.13256253e-06]\n",
      " [-1.56804501e-02 -6.92869987e-03 -1.37608292e-02 ... -3.00047978e-03\n",
      "   1.87038865e-03 -2.31022126e-03]\n",
      " ...\n",
      " [-1.41356324e-02 -6.14971044e-03 -1.24425086e-02 ...  3.40153535e-04\n",
      "   5.24430733e-05 -1.64220858e-04]\n",
      " [-3.94560764e-02 -1.81885355e-02 -3.66625813e-02 ...  2.25939014e-03\n",
      "  -3.32365099e-05 -1.15775828e-03]\n",
      " [ 1.73040905e-01 -5.82094739e-03 -1.68752898e-02 ...  3.13977108e-03\n",
      "  -4.31285843e-04  4.36218590e-05]] (3000, 852)\n"
     ]
    }
   ],
   "source": [
    "print(shap_values, shap_values.shape)"
   ]
  },
  {
   "cell_type": "code",
   "execution_count": 154,
   "id": "ed703251",
   "metadata": {},
   "outputs": [
    {
     "data": {
      "text/plain": [
       "array([[ 0.        ,  0.        ,  0.        , ..., -0.64245528,\n",
       "        -0.34894403, -0.72375016],\n",
       "       [ 0.        ,  0.        ,  0.        , ..., -0.64245528,\n",
       "        -0.34894403, -0.72375016],\n",
       "       [ 0.        ,  0.        ,  0.        , ..., -0.57593131,\n",
       "        -0.40548589, -0.72375016],\n",
       "       ...,\n",
       "       [ 0.        ,  0.        ,  0.        , ..., -0.57593131,\n",
       "        -0.35702144, -0.71734841],\n",
       "       [ 1.        ,  0.        ,  0.        , ..., -0.57593131,\n",
       "        -0.40548589, -0.72375016],\n",
       "       [ 0.        ,  0.        ,  0.        , ..., -0.57593131,\n",
       "        -0.35702144, -0.71734841]])"
      ]
     },
     "execution_count": 154,
     "metadata": {},
     "output_type": "execute_result"
    }
   ],
   "source": [
    "test_data"
   ]
  },
  {
   "cell_type": "code",
   "execution_count": null,
   "id": "aaad4d73",
   "metadata": {},
   "outputs": [],
   "source": []
  }
 ],
 "metadata": {
  "kernelspec": {
   "display_name": "Python 3 (ipykernel)",
   "language": "python",
   "name": "python3"
  },
  "language_info": {
   "codemirror_mode": {
    "name": "ipython",
    "version": 3
   },
   "file_extension": ".py",
   "mimetype": "text/x-python",
   "name": "python",
   "nbconvert_exporter": "python",
   "pygments_lexer": "ipython3",
   "version": "3.10.9"
  }
 },
 "nbformat": 4,
 "nbformat_minor": 5
}
